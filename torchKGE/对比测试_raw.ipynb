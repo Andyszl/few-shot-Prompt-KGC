{
 "cells": [
  {
   "cell_type": "code",
   "execution_count": 1,
   "id": "698d95ca",
   "metadata": {},
   "outputs": [
    {
     "name": "stderr",
     "output_type": "stream",
     "text": [
      "/root/anaconda3/envs/openke/lib/python3.10/site-packages/torchkge/utils/data_redundancy.py:11: TqdmWarning: IProgress not found. Please update jupyter and ipywidgets. See https://ipywidgets.readthedocs.io/en/stable/user_install.html\n",
      "  from tqdm.autonotebook import tqdm\n"
     ]
    }
   ],
   "source": [
    "import os\n",
    "import pandas as pd\n",
    "from torchkge.data_structures import KnowledgeGraph\n",
    "from torchkge.models import TransEModel\n"
   ]
  },
  {
   "cell_type": "markdown",
   "id": "775b14ca",
   "metadata": {},
   "source": [
    "## 示例"
   ]
  },
  {
   "cell_type": "code",
   "execution_count": 2,
   "id": "da7d780f",
   "metadata": {},
   "outputs": [],
   "source": [
    "from torchkge.utils.datasets import load_fb15k\n",
    "kg_train, _, _ = load_fb15k()\n"
   ]
  },
  {
   "cell_type": "code",
   "execution_count": 3,
   "id": "d99e29af",
   "metadata": {},
   "outputs": [
    {
     "data": {
      "text/plain": [
       "<torchkge.data_structures.KnowledgeGraph at 0x7efe9830b9a0>"
      ]
     },
     "execution_count": 3,
     "metadata": {},
     "output_type": "execute_result"
    }
   ],
   "source": [
    "kg_train"
   ]
  },
  {
   "cell_type": "code",
   "execution_count": 4,
   "id": "c6f5141e",
   "metadata": {},
   "outputs": [],
   "source": [
    "df = kg_train.get_df()"
   ]
  },
  {
   "cell_type": "code",
   "execution_count": 5,
   "id": "9c9e49e7",
   "metadata": {},
   "outputs": [
    {
     "data": {
      "text/html": [
       "<div>\n",
       "<style scoped>\n",
       "    .dataframe tbody tr th:only-of-type {\n",
       "        vertical-align: middle;\n",
       "    }\n",
       "\n",
       "    .dataframe tbody tr th {\n",
       "        vertical-align: top;\n",
       "    }\n",
       "\n",
       "    .dataframe thead th {\n",
       "        text-align: right;\n",
       "    }\n",
       "</style>\n",
       "<table border=\"1\" class=\"dataframe\">\n",
       "  <thead>\n",
       "    <tr style=\"text-align: right;\">\n",
       "      <th></th>\n",
       "      <th>from</th>\n",
       "      <th>to</th>\n",
       "      <th>rel</th>\n",
       "    </tr>\n",
       "  </thead>\n",
       "  <tbody>\n",
       "    <tr>\n",
       "      <th>0</th>\n",
       "      <td>/m/027rn</td>\n",
       "      <td>/m/06cx9</td>\n",
       "      <td>/location/country/form_of_government</td>\n",
       "    </tr>\n",
       "    <tr>\n",
       "      <th>1</th>\n",
       "      <td>/m/017dcd</td>\n",
       "      <td>/m/06v8s0</td>\n",
       "      <td>/tv/tv_program/regular_cast./tv/regular_tv_app...</td>\n",
       "    </tr>\n",
       "    <tr>\n",
       "      <th>2</th>\n",
       "      <td>/m/07s9rl0</td>\n",
       "      <td>/m/0170z3</td>\n",
       "      <td>/media_common/netflix_genre/titles</td>\n",
       "    </tr>\n",
       "    <tr>\n",
       "      <th>3</th>\n",
       "      <td>/m/01sl1q</td>\n",
       "      <td>/m/044mz_</td>\n",
       "      <td>/award/award_winner/awards_won./award/award_ho...</td>\n",
       "    </tr>\n",
       "    <tr>\n",
       "      <th>4</th>\n",
       "      <td>/m/0cnk2q</td>\n",
       "      <td>/m/02nzb8</td>\n",
       "      <td>/soccer/football_team/current_roster./sports/s...</td>\n",
       "    </tr>\n",
       "    <tr>\n",
       "      <th>...</th>\n",
       "      <td>...</td>\n",
       "      <td>...</td>\n",
       "      <td>...</td>\n",
       "    </tr>\n",
       "    <tr>\n",
       "      <th>483137</th>\n",
       "      <td>/m/0gpx6</td>\n",
       "      <td>/m/0gq6s3</td>\n",
       "      <td>/award/award_nominated_work/award_nominations....</td>\n",
       "    </tr>\n",
       "    <tr>\n",
       "      <th>483138</th>\n",
       "      <td>/m/020jqv</td>\n",
       "      <td>/m/09d3b7</td>\n",
       "      <td>/award/award_nominee/award_nominations./award/...</td>\n",
       "    </tr>\n",
       "    <tr>\n",
       "      <th>483139</th>\n",
       "      <td>/m/0524b41</td>\n",
       "      <td>/m/0lp_cd3</td>\n",
       "      <td>/award/award_winning_work/awards_won./award/aw...</td>\n",
       "    </tr>\n",
       "    <tr>\n",
       "      <th>483140</th>\n",
       "      <td>/m/0kvsb</td>\n",
       "      <td>/m/050xpd</td>\n",
       "      <td>/people/person/education./education/education/...</td>\n",
       "    </tr>\n",
       "    <tr>\n",
       "      <th>483141</th>\n",
       "      <td>/m/03p41</td>\n",
       "      <td>/m/03tp4</td>\n",
       "      <td>/medicine/disease/medical_specialties</td>\n",
       "    </tr>\n",
       "  </tbody>\n",
       "</table>\n",
       "<p>483142 rows × 3 columns</p>\n",
       "</div>"
      ],
      "text/plain": [
       "              from          to  \\\n",
       "0         /m/027rn    /m/06cx9   \n",
       "1        /m/017dcd   /m/06v8s0   \n",
       "2       /m/07s9rl0   /m/0170z3   \n",
       "3        /m/01sl1q   /m/044mz_   \n",
       "4        /m/0cnk2q   /m/02nzb8   \n",
       "...            ...         ...   \n",
       "483137    /m/0gpx6   /m/0gq6s3   \n",
       "483138   /m/020jqv   /m/09d3b7   \n",
       "483139  /m/0524b41  /m/0lp_cd3   \n",
       "483140    /m/0kvsb   /m/050xpd   \n",
       "483141    /m/03p41    /m/03tp4   \n",
       "\n",
       "                                                      rel  \n",
       "0                    /location/country/form_of_government  \n",
       "1       /tv/tv_program/regular_cast./tv/regular_tv_app...  \n",
       "2                      /media_common/netflix_genre/titles  \n",
       "3       /award/award_winner/awards_won./award/award_ho...  \n",
       "4       /soccer/football_team/current_roster./sports/s...  \n",
       "...                                                   ...  \n",
       "483137  /award/award_nominated_work/award_nominations....  \n",
       "483138  /award/award_nominee/award_nominations./award/...  \n",
       "483139  /award/award_winning_work/awards_won./award/aw...  \n",
       "483140  /people/person/education./education/education/...  \n",
       "483141              /medicine/disease/medical_specialties  \n",
       "\n",
       "[483142 rows x 3 columns]"
      ]
     },
     "execution_count": 5,
     "metadata": {},
     "output_type": "execute_result"
    }
   ],
   "source": [
    "df"
   ]
  },
  {
   "cell_type": "markdown",
   "id": "2cb6c754",
   "metadata": {},
   "source": [
    "## OpenBG500"
   ]
  },
  {
   "cell_type": "markdown",
   "id": "c1b5dd5b",
   "metadata": {},
   "source": [
    "### 2.1 读取数据"
   ]
  },
  {
   "cell_type": "code",
   "execution_count": 1,
   "id": "fbf2f0af",
   "metadata": {},
   "outputs": [],
   "source": [
    "import pandas as pd"
   ]
  },
  {
   "cell_type": "code",
   "execution_count": 2,
   "id": "c5ed6efe",
   "metadata": {},
   "outputs": [],
   "source": [
    "df_train = pd.read_csv(\"./train.csv\")\n",
    "df_test = pd.read_csv(\"./test.csv\")"
   ]
  },
  {
   "cell_type": "code",
   "execution_count": 3,
   "id": "6b91c2cc",
   "metadata": {},
   "outputs": [
    {
     "data": {
      "text/html": [
       "<div>\n",
       "<style scoped>\n",
       "    .dataframe tbody tr th:only-of-type {\n",
       "        vertical-align: middle;\n",
       "    }\n",
       "\n",
       "    .dataframe tbody tr th {\n",
       "        vertical-align: top;\n",
       "    }\n",
       "\n",
       "    .dataframe thead th {\n",
       "        text-align: right;\n",
       "    }\n",
       "</style>\n",
       "<table border=\"1\" class=\"dataframe\">\n",
       "  <thead>\n",
       "    <tr style=\"text-align: right;\">\n",
       "      <th></th>\n",
       "      <th>head</th>\n",
       "      <th>relation</th>\n",
       "      <th>tail</th>\n",
       "    </tr>\n",
       "  </thead>\n",
       "  <tbody>\n",
       "    <tr>\n",
       "      <th>0</th>\n",
       "      <td>婴儿围嘴</td>\n",
       "      <td>文胸尺码</td>\n",
       "      <td>16*10CM*2个</td>\n",
       "    </tr>\n",
       "    <tr>\n",
       "      <th>1</th>\n",
       "      <td>大码内衣女超薄款大胸显小神器缩胸防下垂文胸胖mm200斤胸罩夏季</td>\n",
       "      <td>文胸尺码</td>\n",
       "      <td>如担心下围短，可联系客服送排扣</td>\n",
       "    </tr>\n",
       "    <tr>\n",
       "      <th>2</th>\n",
       "      <td>卫衣</td>\n",
       "      <td>文胸尺码</td>\n",
       "      <td>均</td>\n",
       "    </tr>\n",
       "    <tr>\n",
       "      <th>3</th>\n",
       "      <td>卫衣</td>\n",
       "      <td>文胸尺码</td>\n",
       "      <td>不加绒</td>\n",
       "    </tr>\n",
       "    <tr>\n",
       "      <th>4</th>\n",
       "      <td>诺瓦纳内衣</td>\n",
       "      <td>文胸尺码</td>\n",
       "      <td>S下胸围65-80</td>\n",
       "    </tr>\n",
       "    <tr>\n",
       "      <th>...</th>\n",
       "      <td>...</td>\n",
       "      <td>...</td>\n",
       "      <td>...</td>\n",
       "    </tr>\n",
       "    <tr>\n",
       "      <th>8702</th>\n",
       "      <td>立式消毒柜</td>\n",
       "      <td>门数量</td>\n",
       "      <td>双门</td>\n",
       "    </tr>\n",
       "    <tr>\n",
       "      <th>8703</th>\n",
       "      <td>新款便携式高密度支架睡帐-玉</td>\n",
       "      <td>门数量</td>\n",
       "      <td>3门</td>\n",
       "    </tr>\n",
       "    <tr>\n",
       "      <th>8704</th>\n",
       "      <td>蚊帐</td>\n",
       "      <td>门数量</td>\n",
       "      <td>3门</td>\n",
       "    </tr>\n",
       "    <tr>\n",
       "      <th>8705</th>\n",
       "      <td>法兰绒被套</td>\n",
       "      <td>门数量</td>\n",
       "      <td>双门</td>\n",
       "    </tr>\n",
       "    <tr>\n",
       "      <th>8706</th>\n",
       "      <td>嵌入式消毒柜</td>\n",
       "      <td>门数量</td>\n",
       "      <td>双门</td>\n",
       "    </tr>\n",
       "  </tbody>\n",
       "</table>\n",
       "<p>8707 rows × 3 columns</p>\n",
       "</div>"
      ],
      "text/plain": [
       "                                  head relation             tail\n",
       "0                                 婴儿围嘴     文胸尺码       16*10CM*2个\n",
       "1     大码内衣女超薄款大胸显小神器缩胸防下垂文胸胖mm200斤胸罩夏季     文胸尺码  如担心下围短，可联系客服送排扣\n",
       "2                                   卫衣     文胸尺码                均\n",
       "3                                   卫衣     文胸尺码              不加绒\n",
       "4                                诺瓦纳内衣     文胸尺码        S下胸围65-80\n",
       "...                                ...      ...              ...\n",
       "8702                             立式消毒柜      门数量               双门\n",
       "8703                    新款便携式高密度支架睡帐-玉      门数量               3门\n",
       "8704                                蚊帐      门数量               3门\n",
       "8705                             法兰绒被套      门数量               双门\n",
       "8706                            嵌入式消毒柜      门数量               双门\n",
       "\n",
       "[8707 rows x 3 columns]"
      ]
     },
     "execution_count": 3,
     "metadata": {},
     "output_type": "execute_result"
    }
   ],
   "source": [
    "df_train"
   ]
  },
  {
   "cell_type": "code",
   "execution_count": 4,
   "id": "7b5f5d0e",
   "metadata": {},
   "outputs": [],
   "source": [
    "df_train = df_train.rename(columns = {\"head\":\"from\" , \"relation\":\"rel\", \"tail\": \"to\"})\n",
    "df_test = df_test.rename(columns = {\"head\":\"from\" , \"relation\":\"rel\", \"tail\": \"to\"})"
   ]
  },
  {
   "cell_type": "code",
   "execution_count": null,
   "id": "a3814625",
   "metadata": {},
   "outputs": [],
   "source": []
  },
  {
   "cell_type": "code",
   "execution_count": 5,
   "id": "69db1690",
   "metadata": {},
   "outputs": [
    {
     "data": {
      "text/html": [
       "<div>\n",
       "<style scoped>\n",
       "    .dataframe tbody tr th:only-of-type {\n",
       "        vertical-align: middle;\n",
       "    }\n",
       "\n",
       "    .dataframe tbody tr th {\n",
       "        vertical-align: top;\n",
       "    }\n",
       "\n",
       "    .dataframe thead th {\n",
       "        text-align: right;\n",
       "    }\n",
       "</style>\n",
       "<table border=\"1\" class=\"dataframe\">\n",
       "  <thead>\n",
       "    <tr style=\"text-align: right;\">\n",
       "      <th></th>\n",
       "      <th>from</th>\n",
       "      <th>rel</th>\n",
       "      <th>to</th>\n",
       "    </tr>\n",
       "  </thead>\n",
       "  <tbody>\n",
       "    <tr>\n",
       "      <th>0</th>\n",
       "      <td>婴儿围嘴</td>\n",
       "      <td>文胸尺码</td>\n",
       "      <td>16*10CM*2个</td>\n",
       "    </tr>\n",
       "    <tr>\n",
       "      <th>1</th>\n",
       "      <td>大码内衣女超薄款大胸显小神器缩胸防下垂文胸胖mm200斤胸罩夏季</td>\n",
       "      <td>文胸尺码</td>\n",
       "      <td>如担心下围短，可联系客服送排扣</td>\n",
       "    </tr>\n",
       "    <tr>\n",
       "      <th>2</th>\n",
       "      <td>卫衣</td>\n",
       "      <td>文胸尺码</td>\n",
       "      <td>均</td>\n",
       "    </tr>\n",
       "    <tr>\n",
       "      <th>3</th>\n",
       "      <td>卫衣</td>\n",
       "      <td>文胸尺码</td>\n",
       "      <td>不加绒</td>\n",
       "    </tr>\n",
       "    <tr>\n",
       "      <th>4</th>\n",
       "      <td>诺瓦纳内衣</td>\n",
       "      <td>文胸尺码</td>\n",
       "      <td>S下胸围65-80</td>\n",
       "    </tr>\n",
       "    <tr>\n",
       "      <th>...</th>\n",
       "      <td>...</td>\n",
       "      <td>...</td>\n",
       "      <td>...</td>\n",
       "    </tr>\n",
       "    <tr>\n",
       "      <th>8702</th>\n",
       "      <td>立式消毒柜</td>\n",
       "      <td>门数量</td>\n",
       "      <td>双门</td>\n",
       "    </tr>\n",
       "    <tr>\n",
       "      <th>8703</th>\n",
       "      <td>新款便携式高密度支架睡帐-玉</td>\n",
       "      <td>门数量</td>\n",
       "      <td>3门</td>\n",
       "    </tr>\n",
       "    <tr>\n",
       "      <th>8704</th>\n",
       "      <td>蚊帐</td>\n",
       "      <td>门数量</td>\n",
       "      <td>3门</td>\n",
       "    </tr>\n",
       "    <tr>\n",
       "      <th>8705</th>\n",
       "      <td>法兰绒被套</td>\n",
       "      <td>门数量</td>\n",
       "      <td>双门</td>\n",
       "    </tr>\n",
       "    <tr>\n",
       "      <th>8706</th>\n",
       "      <td>嵌入式消毒柜</td>\n",
       "      <td>门数量</td>\n",
       "      <td>双门</td>\n",
       "    </tr>\n",
       "  </tbody>\n",
       "</table>\n",
       "<p>8707 rows × 3 columns</p>\n",
       "</div>"
      ],
      "text/plain": [
       "                                  from   rel               to\n",
       "0                                 婴儿围嘴  文胸尺码       16*10CM*2个\n",
       "1     大码内衣女超薄款大胸显小神器缩胸防下垂文胸胖mm200斤胸罩夏季  文胸尺码  如担心下围短，可联系客服送排扣\n",
       "2                                   卫衣  文胸尺码                均\n",
       "3                                   卫衣  文胸尺码              不加绒\n",
       "4                                诺瓦纳内衣  文胸尺码        S下胸围65-80\n",
       "...                                ...   ...              ...\n",
       "8702                             立式消毒柜   门数量               双门\n",
       "8703                    新款便携式高密度支架睡帐-玉   门数量               3门\n",
       "8704                                蚊帐   门数量               3门\n",
       "8705                             法兰绒被套   门数量               双门\n",
       "8706                            嵌入式消毒柜   门数量               双门\n",
       "\n",
       "[8707 rows x 3 columns]"
      ]
     },
     "execution_count": 5,
     "metadata": {},
     "output_type": "execute_result"
    }
   ],
   "source": [
    "df_train"
   ]
  },
  {
   "cell_type": "code",
   "execution_count": 6,
   "id": "6a5bcc52",
   "metadata": {},
   "outputs": [
    {
     "name": "stderr",
     "output_type": "stream",
     "text": [
      "/root/anaconda3/envs/openke/lib/python3.10/site-packages/torchkge/utils/data_redundancy.py:11: TqdmWarning: IProgress not found. Please update jupyter and ipywidgets. See https://ipywidgets.readthedocs.io/en/stable/user_install.html\n",
      "  from tqdm.autonotebook import tqdm\n"
     ]
    }
   ],
   "source": [
    "from torchkge.data_structures import KnowledgeGraph"
   ]
  },
  {
   "cell_type": "code",
   "execution_count": 7,
   "id": "1a3902ba",
   "metadata": {},
   "outputs": [
    {
     "name": "stdout",
     "output_type": "stream",
     "text": [
      "实体数: 4562 关系数: 131 训练数: 8707\n"
     ]
    }
   ],
   "source": [
    "kg = KnowledgeGraph(df=df_train)\n",
    "print(\"实体数:\", kg.n_ent, \"关系数:\", kg.n_rel, \"训练数:\", kg.n_facts)"
   ]
  },
  {
   "cell_type": "code",
   "execution_count": 8,
   "id": "11c04f1b",
   "metadata": {},
   "outputs": [
    {
     "data": {
      "text/plain": [
       "<torchkge.data_structures.KnowledgeGraph at 0x7fe59e936110>"
      ]
     },
     "execution_count": 8,
     "metadata": {},
     "output_type": "execute_result"
    }
   ],
   "source": [
    "kg"
   ]
  },
  {
   "cell_type": "markdown",
   "id": "863c829f",
   "metadata": {},
   "source": [
    "### 2.2 准备训练"
   ]
  },
  {
   "cell_type": "code",
   "execution_count": 34,
   "id": "48c8429a",
   "metadata": {},
   "outputs": [],
   "source": [
    "emb_dim = 50\n",
    "lr = 0.0004\n",
    "n_epochs = 1000\n",
    "b_size = 256\n",
    "margin = 0.5"
   ]
  },
  {
   "cell_type": "markdown",
   "id": "9e545a1b",
   "metadata": {},
   "source": [
    "## TransE"
   ]
  },
  {
   "cell_type": "code",
   "execution_count": 35,
   "id": "df670e6a",
   "metadata": {},
   "outputs": [],
   "source": [
    "from torchkge.utils import MarginLoss, DataLoader\n",
    "from torchkge.models import TransEModel\n",
    "from torch import cuda\n",
    "from torch.optim import Adam\n",
    "from torchkge.utils import MarginLoss, DataLoader\n",
    "from tqdm.autonotebook import tqdm\n",
    "from torchkge.sampling import BernoulliNegativeSampler"
   ]
  },
  {
   "cell_type": "code",
   "execution_count": 36,
   "id": "dd72e7fe",
   "metadata": {},
   "outputs": [],
   "source": [
    "# Define the model and criterion\n",
    "model = TransEModel(emb_dim, kg.n_ent, kg.n_rel, dissimilarity_type='L2')\n",
    "criterion = MarginLoss(margin)"
   ]
  },
  {
   "cell_type": "code",
   "execution_count": 37,
   "id": "fb6a44aa",
   "metadata": {},
   "outputs": [],
   "source": [
    "# Move everything to CUDA if available\n",
    "if cuda.is_available():\n",
    "    cuda.empty_cache()\n",
    "    model.cuda()\n",
    "    criterion.cuda()\n"
   ]
  },
  {
   "cell_type": "code",
   "execution_count": 38,
   "id": "2effec9a",
   "metadata": {},
   "outputs": [],
   "source": [
    "# Define the torch optimizer to be used\n",
    "optimizer = Adam(model.parameters(), lr=lr, weight_decay=1e-5)\n",
    "\n",
    "sampler = BernoulliNegativeSampler(kg)\n",
    "dataloader = DataLoader(kg, batch_size=b_size, use_cuda='all')"
   ]
  },
  {
   "cell_type": "code",
   "execution_count": 39,
   "id": "f40396c9",
   "metadata": {},
   "outputs": [
    {
     "name": "stderr",
     "output_type": "stream",
     "text": [
      "Epoch 1000 | mean loss: 0.09489: 100%|██████████| 1000/1000 [01:38<00:00, 10.18epoch/s]\n"
     ]
    }
   ],
   "source": [
    "iterator = tqdm(range(n_epochs), unit='epoch')\n",
    "epoch_losses = []\n",
    "for epoch in iterator:\n",
    "    running_loss = 0.0\n",
    "    for i, batch in enumerate(dataloader):\n",
    "        h, t, r = batch[0], batch[1], batch[2]\n",
    "        n_h, n_t = sampler.corrupt_batch(h, t, r)\n",
    "\n",
    "        optimizer.zero_grad()\n",
    "\n",
    "        # forward + backward + optimize\n",
    "        pos, neg = model(h, t, r, n_h, n_t)\n",
    "        loss = criterion(pos, neg)\n",
    "        loss.backward()\n",
    "        optimizer.step()\n",
    "\n",
    "        running_loss += loss.item()\n",
    "\n",
    "    mean_loss = running_loss / len(dataloader)\n",
    "    epoch_losses.append(mean_loss)\n",
    "\n",
    "    iterator.set_description(\n",
    "        'Epoch {} | mean loss: {:.5f}'.format(epoch + 1,\n",
    "                                              running_loss / len(dataloader)))"
   ]
  },
  {
   "cell_type": "code",
   "execution_count": 40,
   "id": "8ed5bae1",
   "metadata": {},
   "outputs": [
    {
     "data": {
      "image/png": "[encoded data removed]",
      "text/plain": [
       "<Figure size 640x480 with 1 Axes>"
      ]
     },
     "metadata": {},
     "output_type": "display_data"
    }
   ],
   "source": [
    "import matplotlib.pyplot as plt\n",
    "\n",
    "#  绘制折线图\n",
    "plt.figure()\n",
    "plt.plot(range(1, n_epochs +1), epoch_losses)\n",
    "plt.xlabel('Epoch')\n",
    "plt.ylabel('Mean Training Loss')\n",
    "plt.title('TransE Training Loss Convergence')\n",
    "plt.tight_layout()\n",
    "plt.show()"
   ]
  },
  {
   "cell_type": "code",
   "execution_count": 41,
   "id": "e0915775",
   "metadata": {},
   "outputs": [],
   "source": [
    "import torch"
   ]
  },
  {
   "cell_type": "code",
   "execution_count": 42,
   "id": "e0898673",
   "metadata": {},
   "outputs": [
    {
     "name": "stdout",
     "output_type": "stream",
     "text": [
      "✓ 已保存模型参数到 ./outputs/transE_openGB500.pt\n"
     ]
    }
   ],
   "source": [
    "save_path = \"./outputs/transE_openGB500.pt\"\n",
    "torch.save(model.state_dict(), save_path)\n",
    "print(f\"✓ 已保存模型参数到 {save_path}\")"
   ]
  },
  {
   "cell_type": "code",
   "execution_count": null,
   "id": "83fad6eb",
   "metadata": {},
   "outputs": [],
   "source": []
  },
  {
   "cell_type": "code",
   "execution_count": 43,
   "id": "12370969",
   "metadata": {},
   "outputs": [],
   "source": [
    "from torchkge.evaluation import LinkPredictionEvaluator\n",
    "from torchkge.utils.pretrained_models import load_pretrained_transe"
   ]
  },
  {
   "cell_type": "code",
   "execution_count": 44,
   "id": "e0628736",
   "metadata": {},
   "outputs": [],
   "source": [
    "kg_test = KnowledgeGraph(df=df_test)"
   ]
  },
  {
   "cell_type": "code",
   "execution_count": 45,
   "id": "96d43c22",
   "metadata": {},
   "outputs": [
    {
     "data": {
      "text/plain": [
       "TransEModel(\n",
       "  (ent_emb): Embedding(4562, 50)\n",
       "  (rel_emb): Embedding(131, 50)\n",
       ")"
      ]
     },
     "execution_count": 45,
     "metadata": {},
     "output_type": "execute_result"
    }
   ],
   "source": [
    "model.eval()"
   ]
  },
  {
   "cell_type": "code",
   "execution_count": 46,
   "id": "c8da18c3",
   "metadata": {},
   "outputs": [],
   "source": [
    "if torch.cuda.is_available():\n",
    "    model.cuda()"
   ]
  },
  {
   "cell_type": "code",
   "execution_count": 47,
   "id": "cbca5434",
   "metadata": {},
   "outputs": [
    {
     "name": "stderr",
     "output_type": "stream",
     "text": [
      "Link prediction evaluation: 100%|██████████| 10/10 [00:00<00:00, 52.41batch/s]\n"
     ]
    }
   ],
   "source": [
    "evaluator = LinkPredictionEvaluator(model, kg_test)\n",
    "evaluator.evaluate(b_size=128)"
   ]
  },
  {
   "cell_type": "code",
   "execution_count": 48,
   "id": "9abc2e27",
   "metadata": {},
   "outputs": [
    {
     "name": "stdout",
     "output_type": "stream",
     "text": [
      "i =  1\n",
      "Hit@1 : 0.015 \t\t Filt. Hit@1 : 0.015\n",
      "Mean Rank : 2267 \t Filt. Mean Rank : 2266\n",
      "MRR : 0.017 \t\t Filt. MRR : 0.017\n",
      "----------------------------------------------------------------------------------------------------\n",
      "i =  3\n",
      "Hit@3 : 0.016 \t\t Filt. Hit@3 : 0.016\n",
      "Mean Rank : 2267 \t Filt. Mean Rank : 2266\n",
      "MRR : 0.017 \t\t Filt. MRR : 0.017\n",
      "----------------------------------------------------------------------------------------------------\n",
      "i =  10\n",
      "Hit@10 : 0.016 \t\t Filt. Hit@10 : 0.016\n",
      "Mean Rank : 2267 \t Filt. Mean Rank : 2266\n",
      "MRR : 0.017 \t\t Filt. MRR : 0.017\n",
      "----------------------------------------------------------------------------------------------------\n"
     ]
    }
   ],
   "source": [
    "for i in [1,3,10]:\n",
    "    print(\"i = \",i)\n",
    "    evaluator.print_results(k=i)\n",
    "    print(\"-\"*100)"
   ]
  },
  {
   "cell_type": "markdown",
   "id": "a6077b84",
   "metadata": {},
   "source": [
    "## DistMult"
   ]
  },
  {
   "cell_type": "code",
   "execution_count": 50,
   "id": "adf3a407",
   "metadata": {},
   "outputs": [],
   "source": [
    "from torchkge.models import (\n",
    "    DistMultModel,\n",
    "    ComplExModel,\n",
    ")"
   ]
  },
  {
   "cell_type": "code",
   "execution_count": 53,
   "id": "0ebf5c8c",
   "metadata": {},
   "outputs": [],
   "source": [
    "# Define the model and criterion\n",
    "DistMult_model = DistMultModel(emb_dim, kg.n_ent, kg.n_rel)\n",
    "criterion = MarginLoss(margin)\n",
    "\n",
    "# Move everything to CUDA if available\n",
    "if cuda.is_available():\n",
    "    cuda.empty_cache()\n",
    "    DistMult_model.cuda()\n",
    "    criterion.cuda()\n"
   ]
  },
  {
   "cell_type": "code",
   "execution_count": 54,
   "id": "03d78583",
   "metadata": {},
   "outputs": [
    {
     "name": "stderr",
     "output_type": "stream",
     "text": [
      "Epoch 1000 | mean loss: 0.11746: 100%|██████████| 1000/1000 [01:30<00:00, 11.05epoch/s]\n"
     ]
    }
   ],
   "source": [
    "# Define the torch optimizer to be used\n",
    "optimizer = Adam(DistMult_model.parameters(), lr=lr, weight_decay=1e-5)\n",
    "\n",
    "sampler = BernoulliNegativeSampler(kg)\n",
    "dataloader = DataLoader(kg, batch_size=b_size, use_cuda='all')\n",
    "\n",
    "iterator = tqdm(range(n_epochs), unit='epoch')\n",
    "epoch_losses = []\n",
    "for epoch in iterator:\n",
    "    running_loss = 0.0\n",
    "    for i, batch in enumerate(dataloader):\n",
    "        h, t, r = batch[0], batch[1], batch[2]\n",
    "        n_h, n_t = sampler.corrupt_batch(h, t, r)\n",
    "\n",
    "        optimizer.zero_grad()\n",
    "\n",
    "        # forward + backward + optimize\n",
    "        pos, neg = DistMult_model(h, t, r, n_h, n_t)\n",
    "        loss = criterion(pos, neg)\n",
    "        loss.backward()\n",
    "        optimizer.step()\n",
    "\n",
    "        running_loss += loss.item()\n",
    "\n",
    "    mean_loss = running_loss / len(dataloader)\n",
    "    epoch_losses.append(mean_loss)\n",
    "\n",
    "    iterator.set_description(\n",
    "        'Epoch {} | mean loss: {:.5f}'.format(epoch + 1,\n",
    "                                              running_loss / len(dataloader)))"
   ]
  },
  {
   "cell_type": "code",
   "execution_count": 55,
   "id": "3a90a6d3",
   "metadata": {},
   "outputs": [
    {
     "data": {
      "image/png": "[encoded data removed]",
      "text/plain": [
       "<Figure size 640x480 with 1 Axes>"
      ]
     },
     "metadata": {},
     "output_type": "display_data"
    }
   ],
   "source": [
    "import matplotlib.pyplot as plt\n",
    "\n",
    "#  绘制折线图\n",
    "plt.figure()\n",
    "plt.plot(range(1, n_epochs +1), epoch_losses)\n",
    "plt.xlabel('Epoch')\n",
    "plt.ylabel('Mean Training Loss')\n",
    "plt.title('TransE Training Loss Convergence')\n",
    "plt.tight_layout()\n",
    "plt.show()"
   ]
  },
  {
   "cell_type": "code",
   "execution_count": 56,
   "id": "dff6dd7d",
   "metadata": {},
   "outputs": [],
   "source": [
    "from torchkge.evaluation import LinkPredictionEvaluator\n",
    "from torchkge.utils.pretrained_models import load_pretrained_transe\n",
    "\n",
    "DistMult_model.eval()\n",
    "\n",
    "if torch.cuda.is_available():\n",
    "    DistMult_model.cuda()"
   ]
  },
  {
   "cell_type": "code",
   "execution_count": 57,
   "id": "07f312a0",
   "metadata": {},
   "outputs": [
    {
     "name": "stderr",
     "output_type": "stream",
     "text": [
      "Link prediction evaluation: 100%|██████████| 10/10 [00:00<00:00, 53.26batch/s]"
     ]
    },
    {
     "name": "stdout",
     "output_type": "stream",
     "text": [
      "i =  1\n",
      "Hit@1 : 0.002 \t\t Filt. Hit@1 : 0.002\n",
      "Mean Rank : 2270 \t Filt. Mean Rank : 2269\n",
      "MRR : 0.005 \t\t Filt. MRR : 0.005\n",
      "----------------------------------------------------------------------------------------------------\n",
      "i =  3\n",
      "Hit@3 : 0.002 \t\t Filt. Hit@3 : 0.002\n",
      "Mean Rank : 2270 \t Filt. Mean Rank : 2269\n",
      "MRR : 0.005 \t\t Filt. MRR : 0.005\n",
      "----------------------------------------------------------------------------------------------------\n",
      "i =  10\n",
      "Hit@10 : 0.012 \t\t Filt. Hit@10 : 0.013\n",
      "Mean Rank : 2270 \t Filt. Mean Rank : 2269\n",
      "MRR : 0.005 \t\t Filt. MRR : 0.005\n",
      "----------------------------------------------------------------------------------------------------\n"
     ]
    },
    {
     "name": "stderr",
     "output_type": "stream",
     "text": [
      "\n"
     ]
    }
   ],
   "source": [
    "evaluator = LinkPredictionEvaluator(DistMult_model, kg_test)\n",
    "evaluator.evaluate(b_size=128)\n",
    "\n",
    "for i in [1,3,10]:\n",
    "    print(\"i = \",i)\n",
    "    evaluator.print_results(k=i)\n",
    "    print(\"-\"*100)"
   ]
  },
  {
   "cell_type": "markdown",
   "id": "2518094e",
   "metadata": {},
   "source": [
    "## ComplExModel"
   ]
  },
  {
   "cell_type": "code",
   "execution_count": 58,
   "id": "b4f3dc47",
   "metadata": {},
   "outputs": [],
   "source": [
    "# Define the model and criterion\n",
    "ComplEx_model = ComplExModel(emb_dim, kg.n_ent, kg.n_rel)\n",
    "criterion = MarginLoss(margin)\n",
    "\n",
    "# Move everything to CUDA if available\n",
    "if cuda.is_available():\n",
    "    cuda.empty_cache()\n",
    "    ComplEx_model.cuda()\n",
    "    criterion.cuda()\n"
   ]
  },
  {
   "cell_type": "code",
   "execution_count": 59,
   "id": "6d799291",
   "metadata": {},
   "outputs": [
    {
     "name": "stderr",
     "output_type": "stream",
     "text": [
      "Epoch 1000 | mean loss: 0.06473: 100%|██████████| 1000/1000 [01:24<00:00, 11.84epoch/s]\n"
     ]
    }
   ],
   "source": [
    "# Define the torch optimizer to be used\n",
    "optimizer = Adam(ComplEx_model.parameters(), lr=lr, weight_decay=1e-5)\n",
    "\n",
    "sampler = BernoulliNegativeSampler(kg)\n",
    "dataloader = DataLoader(kg, batch_size=b_size, use_cuda='all')\n",
    "\n",
    "iterator = tqdm(range(n_epochs), unit='epoch')\n",
    "epoch_losses = []\n",
    "for epoch in iterator:\n",
    "    running_loss = 0.0\n",
    "    for i, batch in enumerate(dataloader):\n",
    "        h, t, r = batch[0], batch[1], batch[2]\n",
    "        n_h, n_t = sampler.corrupt_batch(h, t, r)\n",
    "\n",
    "        optimizer.zero_grad()\n",
    "\n",
    "        # forward + backward + optimize\n",
    "        pos, neg = ComplEx_model(h, t, r, n_h, n_t)\n",
    "        loss = criterion(pos, neg)\n",
    "        loss.backward()\n",
    "        optimizer.step()\n",
    "\n",
    "        running_loss += loss.item()\n",
    "\n",
    "    mean_loss = running_loss / len(dataloader)\n",
    "    epoch_losses.append(mean_loss)\n",
    "\n",
    "    iterator.set_description(\n",
    "        'Epoch {} | mean loss: {:.5f}'.format(epoch + 1,\n",
    "                                              running_loss / len(dataloader)))"
   ]
  },
  {
   "cell_type": "code",
   "execution_count": 60,
   "id": "afda614e",
   "metadata": {},
   "outputs": [
    {
     "data": {
      "image/png": "[encoded data removed]",
      "text/plain": [
       "<Figure size 640x480 with 1 Axes>"
      ]
     },
     "metadata": {},
     "output_type": "display_data"
    }
   ],
   "source": [
    "import matplotlib.pyplot as plt\n",
    "\n",
    "#  绘制折线图\n",
    "plt.figure()\n",
    "plt.plot(range(1, n_epochs +1), epoch_losses)\n",
    "plt.xlabel('Epoch')\n",
    "plt.ylabel('Mean Training Loss')\n",
    "plt.title('TransE Training Loss Convergence')\n",
    "plt.tight_layout()\n",
    "plt.show()"
   ]
  },
  {
   "cell_type": "code",
   "execution_count": 61,
   "id": "40c47edc",
   "metadata": {},
   "outputs": [],
   "source": [
    "from torchkge.evaluation import LinkPredictionEvaluator\n",
    "from torchkge.utils.pretrained_models import load_pretrained_transe\n",
    "\n",
    "ComplEx_model.eval()\n",
    "\n",
    "if torch.cuda.is_available():\n",
    "    ComplEx_model.cuda()"
   ]
  },
  {
   "cell_type": "code",
   "execution_count": 62,
   "id": "49814c47",
   "metadata": {},
   "outputs": [
    {
     "name": "stderr",
     "output_type": "stream",
     "text": [
      "Link prediction evaluation: 100%|██████████| 10/10 [00:00<00:00, 51.17batch/s]"
     ]
    },
    {
     "name": "stdout",
     "output_type": "stream",
     "text": [
      "i =  1\n",
      "Hit@1 : 0.0 \t\t Filt. Hit@1 : 0.0\n",
      "Mean Rank : 2198 \t Filt. Mean Rank : 2197\n",
      "MRR : 0.002 \t\t Filt. MRR : 0.002\n",
      "----------------------------------------------------------------------------------------------------\n",
      "i =  3\n",
      "Hit@3 : 0.001 \t\t Filt. Hit@3 : 0.001\n",
      "Mean Rank : 2198 \t Filt. Mean Rank : 2197\n",
      "MRR : 0.002 \t\t Filt. MRR : 0.002\n",
      "----------------------------------------------------------------------------------------------------\n",
      "i =  10\n",
      "Hit@10 : 0.003 \t\t Filt. Hit@10 : 0.003\n",
      "Mean Rank : 2198 \t Filt. Mean Rank : 2197\n",
      "MRR : 0.002 \t\t Filt. MRR : 0.002\n",
      "----------------------------------------------------------------------------------------------------\n"
     ]
    },
    {
     "name": "stderr",
     "output_type": "stream",
     "text": [
      "\n"
     ]
    }
   ],
   "source": [
    "evaluator = LinkPredictionEvaluator(ComplEx_model, kg_test)\n",
    "evaluator.evaluate(b_size=128)\n",
    "\n",
    "for i in [1,3,10]:\n",
    "    print(\"i = \",i)\n",
    "    evaluator.print_results(k=i)\n",
    "    print(\"-\"*100)"
   ]
  },
  {
   "cell_type": "markdown",
   "id": "6f67177c",
   "metadata": {},
   "source": [
    "## all data"
   ]
  },
  {
   "cell_type": "markdown",
   "id": "5765c290",
   "metadata": {},
   "source": [
    "### 数据"
   ]
  },
  {
   "cell_type": "code",
   "execution_count": 32,
   "id": "5b1058b7",
   "metadata": {},
   "outputs": [],
   "source": [
    "import os\n",
    "import pandas as pd\n",
    "from torchkge.data_structures import KnowledgeGraph"
   ]
  },
  {
   "cell_type": "code",
   "execution_count": 33,
   "id": "4eaf0815",
   "metadata": {},
   "outputs": [],
   "source": [
    "\n",
    "DATA_DIR       = \"/root/szl/KG/knowledge_graph_completion/data/OpenBG500\"\n",
    "TRAIN_TSV      = os.path.join(DATA_DIR, \"OpenBG500_train.tsv\")\n",
    "DEV_TSV        = os.path.join(DATA_DIR, \"OpenBG500_dev.tsv\")\n",
    "TEST_TSV       = os.path.join(DATA_DIR, \"OpenBG500_test.tsv\")\n",
    "ENTITY2TEXT    = os.path.join(DATA_DIR, \"OpenBG500_entity2text.tsv\")\n",
    "REL2TEXT       = os.path.join(DATA_DIR, \"OpenBG500_relation2text.tsv\")"
   ]
  },
  {
   "cell_type": "code",
   "execution_count": 34,
   "id": "c2d83e0e",
   "metadata": {},
   "outputs": [],
   "source": [
    "# 1. 读所有三元组（ID 格式）\n",
    "df_train = pd.read_csv(TRAIN_TSV, sep=\"\\t\", names=[\"from\",\"rel\",\"to\"], dtype=str)\n",
    "df_dev   = pd.read_csv(DEV_TSV,   sep=\"\\t\", names=[\"from\",\"rel\",\"to\"], dtype=str)\n",
    "df_test  = pd.read_csv(TEST_TSV,  sep=\"\\t\", names=[\"from\",\"rel\",\"to\"], dtype=str)"
   ]
  },
  {
   "cell_type": "code",
   "execution_count": 6,
   "id": "196f9889",
   "metadata": {},
   "outputs": [],
   "source": [
    "# 2. 读实体/关系中文描述\n",
    "ent2text = {}\n",
    "with open(ENTITY2TEXT, encoding=\"utf-8\") as f:\n",
    "    for line in f:\n",
    "        eid, desc = line.strip().split(\"\\t\", 1)\n",
    "        ent2text[eid] = desc\n",
    "\n",
    "rel2text = {}\n",
    "with open(REL2TEXT, encoding=\"utf-8\") as f:\n",
    "    for line in f:\n",
    "        rid, desc = line.strip().split(\"\\t\", 1)\n",
    "        rel2text[rid] = desc\n",
    "\n",
    "# 3. 定义一个映射函数\n",
    "def map_to_text(df):\n",
    "    df_text = pd.DataFrame({\n",
    "        \"from\": df[\"from\"].map(ent2text),\n",
    "        \"rel\" : df[\"rel\"].map(rel2text),\n",
    "        \"to\"  : df[\"to\"].map(ent2text),\n",
    "    })\n",
    "    # 可选：过滤掉任何映射失败的行\n",
    "    df_text = df_text.dropna().reset_index(drop=True)\n",
    "    return df_text"
   ]
  },
  {
   "cell_type": "code",
   "execution_count": 7,
   "id": "9ac162f3",
   "metadata": {},
   "outputs": [],
   "source": [
    "# 4. 把训练/验证/测试都映射为中文描述\n",
    "df_train_text = map_to_text(df_train)\n",
    "df_dev_text   = map_to_text(df_dev)\n",
    "df_test_text  = map_to_text(df_test)"
   ]
  },
  {
   "cell_type": "code",
   "execution_count": 39,
   "id": "155ed387",
   "metadata": {},
   "outputs": [],
   "source": [
    "df_train_text.to_csv(\"./df_train_text.csv\")\n",
    "df_dev_text.to_csv(\"./df_dev_text.csv\")\n",
    "df_test_text.to_csv(\"./df_test_text.csv\")"
   ]
  },
  {
   "cell_type": "markdown",
   "id": "0a51774f",
   "metadata": {},
   "source": [
    "### 准备"
   ]
  },
  {
   "cell_type": "code",
   "execution_count": 1,
   "id": "84141888",
   "metadata": {},
   "outputs": [],
   "source": [
    "import pandas as pd"
   ]
  },
  {
   "cell_type": "code",
   "execution_count": 2,
   "id": "3eb566f0",
   "metadata": {},
   "outputs": [],
   "source": [
    "df_train = pd.read_csv(\"./df_train_text.csv\")\n",
    "df_test = pd.read_csv(\"./df_dev_text.csv\")"
   ]
  },
  {
   "cell_type": "code",
   "execution_count": 3,
   "id": "39077765",
   "metadata": {},
   "outputs": [
    {
     "name": "stderr",
     "output_type": "stream",
     "text": [
      "/root/anaconda3/envs/openke/lib/python3.10/site-packages/torchkge/utils/data_redundancy.py:11: TqdmWarning: IProgress not found. Please update jupyter and ipywidgets. See https://ipywidgets.readthedocs.io/en/stable/user_install.html\n",
      "  from tqdm.autonotebook import tqdm\n"
     ]
    }
   ],
   "source": [
    "from torchkge.data_structures import KnowledgeGraph"
   ]
  },
  {
   "cell_type": "code",
   "execution_count": 4,
   "id": "9ad8cb4f",
   "metadata": {},
   "outputs": [
    {
     "name": "stdout",
     "output_type": "stream",
     "text": [
      "实体数: 117311 关系数: 498 训练数: 1242550\n"
     ]
    }
   ],
   "source": [
    "kg_train = KnowledgeGraph(df=df_train)\n",
    "print(\"实体数:\", kg_train.n_ent, \"关系数:\", kg_train.n_rel, \"训练数:\", kg_train.n_facts)"
   ]
  },
  {
   "cell_type": "code",
   "execution_count": 5,
   "id": "985b0651",
   "metadata": {},
   "outputs": [],
   "source": [
    "df = kg_train.get_df()"
   ]
  },
  {
   "cell_type": "code",
   "execution_count": 6,
   "id": "5d3403b8",
   "metadata": {},
   "outputs": [
    {
     "data": {
      "text/html": [
       "<div>\n",
       "<style scoped>\n",
       "    .dataframe tbody tr th:only-of-type {\n",
       "        vertical-align: middle;\n",
       "    }\n",
       "\n",
       "    .dataframe tbody tr th {\n",
       "        vertical-align: top;\n",
       "    }\n",
       "\n",
       "    .dataframe thead th {\n",
       "        text-align: right;\n",
       "    }\n",
       "</style>\n",
       "<table border=\"1\" class=\"dataframe\">\n",
       "  <thead>\n",
       "    <tr style=\"text-align: right;\">\n",
       "      <th></th>\n",
       "      <th>from</th>\n",
       "      <th>to</th>\n",
       "      <th>rel</th>\n",
       "    </tr>\n",
       "  </thead>\n",
       "  <tbody>\n",
       "    <tr>\n",
       "      <th>0</th>\n",
       "      <td>苦荞茶</td>\n",
       "      <td>苦荞麦</td>\n",
       "      <td>外部材质</td>\n",
       "    </tr>\n",
       "    <tr>\n",
       "      <th>1</th>\n",
       "      <td>精品三姐妹硬糕</td>\n",
       "      <td>原味硬糕850克【10包40块糕】</td>\n",
       "      <td>口味</td>\n",
       "    </tr>\n",
       "    <tr>\n",
       "      <th>2</th>\n",
       "      <td>酥念你蛋黄酥</td>\n",
       "      <td>无添蔗糖</td>\n",
       "      <td>细分市场</td>\n",
       "    </tr>\n",
       "    <tr>\n",
       "      <th>3</th>\n",
       "      <td>婴儿围嘴</td>\n",
       "      <td>16*10CM*2个</td>\n",
       "      <td>文胸尺码</td>\n",
       "    </tr>\n",
       "    <tr>\n",
       "      <th>4</th>\n",
       "      <td>棒球帽</td>\n",
       "      <td>弯檐</td>\n",
       "      <td>檐形</td>\n",
       "    </tr>\n",
       "    <tr>\n",
       "      <th>...</th>\n",
       "      <td>...</td>\n",
       "      <td>...</td>\n",
       "      <td>...</td>\n",
       "    </tr>\n",
       "    <tr>\n",
       "      <th>1242545</th>\n",
       "      <td>潜水艇防臭地漏</td>\n",
       "      <td>全铜</td>\n",
       "      <td>材质</td>\n",
       "    </tr>\n",
       "    <tr>\n",
       "      <th>1242546</th>\n",
       "      <td>男装长裤</td>\n",
       "      <td>浅灰色</td>\n",
       "      <td>颜色分类</td>\n",
       "    </tr>\n",
       "    <tr>\n",
       "      <th>1242547</th>\n",
       "      <td>豆奶粉</td>\n",
       "      <td>国产</td>\n",
       "      <td>产地</td>\n",
       "    </tr>\n",
       "    <tr>\n",
       "      <th>1242548</th>\n",
       "      <td>地瓜干</td>\n",
       "      <td>否</td>\n",
       "      <td>是否进口</td>\n",
       "    </tr>\n",
       "    <tr>\n",
       "      <th>1242549</th>\n",
       "      <td>移动电源</td>\n",
       "      <td>国货品牌</td>\n",
       "      <td>品牌归属地</td>\n",
       "    </tr>\n",
       "  </tbody>\n",
       "</table>\n",
       "<p>1242550 rows × 3 columns</p>\n",
       "</div>"
      ],
      "text/plain": [
       "            from                 to    rel\n",
       "0            苦荞茶                苦荞麦   外部材质\n",
       "1        精品三姐妹硬糕  原味硬糕850克【10包40块糕】     口味\n",
       "2         酥念你蛋黄酥               无添蔗糖   细分市场\n",
       "3           婴儿围嘴         16*10CM*2个   文胸尺码\n",
       "4            棒球帽                 弯檐     檐形\n",
       "...          ...                ...    ...\n",
       "1242545  潜水艇防臭地漏                 全铜     材质\n",
       "1242546     男装长裤                浅灰色   颜色分类\n",
       "1242547      豆奶粉                 国产     产地\n",
       "1242548      地瓜干                  否   是否进口\n",
       "1242549     移动电源               国货品牌  品牌归属地\n",
       "\n",
       "[1242550 rows x 3 columns]"
      ]
     },
     "execution_count": 6,
     "metadata": {},
     "output_type": "execute_result"
    }
   ],
   "source": [
    "df"
   ]
  },
  {
   "cell_type": "code",
   "execution_count": 7,
   "id": "ce1574be",
   "metadata": {},
   "outputs": [
    {
     "name": "stdout",
     "output_type": "stream",
     "text": [
      "实体数: 4166 关系数: 498 训练数: 5000\n"
     ]
    }
   ],
   "source": [
    "kg_test = KnowledgeGraph(df=df_test)\n",
    "print(\"实体数:\", kg_test.n_ent, \"关系数:\", kg_test.n_rel, \"训练数:\", kg_test.n_facts)"
   ]
  },
  {
   "cell_type": "code",
   "execution_count": null,
   "id": "c3ca7327",
   "metadata": {},
   "outputs": [],
   "source": []
  },
  {
   "cell_type": "code",
   "execution_count": null,
   "id": "a350b806",
   "metadata": {},
   "outputs": [],
   "source": []
  },
  {
   "cell_type": "code",
   "execution_count": null,
   "id": "69a2f2de",
   "metadata": {},
   "outputs": [],
   "source": []
  },
  {
   "cell_type": "markdown",
   "id": "dcadfbce",
   "metadata": {},
   "source": [
    "### 训练"
   ]
  },
  {
   "cell_type": "code",
   "execution_count": 8,
   "id": "d1fea3ef",
   "metadata": {},
   "outputs": [],
   "source": [
    "from torchkge.utils import MarginLoss, DataLoader\n",
    "from torchkge.models import TransEModel\n",
    "from torch import cuda\n",
    "from torch.optim import Adam\n",
    "from torchkge.utils import MarginLoss, DataLoader\n",
    "from tqdm.autonotebook import tqdm\n",
    "from torchkge.sampling import BernoulliNegativeSampler"
   ]
  },
  {
   "cell_type": "code",
   "execution_count": 9,
   "id": "4b44cef0",
   "metadata": {},
   "outputs": [],
   "source": [
    "emb_dim = 50\n",
    "lr = 0.0004\n",
    "n_epochs = 1000\n",
    "b_size = 256\n",
    "margin = 0.5"
   ]
  },
  {
   "cell_type": "code",
   "execution_count": 10,
   "id": "3314c628",
   "metadata": {},
   "outputs": [],
   "source": [
    "# Define the model and criterion\n",
    "model = TransEModel(emb_dim, kg_train.n_ent, kg_train.n_rel, dissimilarity_type='L2')\n",
    "criterion = MarginLoss(margin)\n",
    "\n",
    "# Move everything to CUDA if available\n",
    "if cuda.is_available():\n",
    "    cuda.empty_cache()\n",
    "    model.cuda()\n",
    "    criterion.cuda()\n",
    "\n",
    "# Define the torch optimizer to be used\n",
    "optimizer = Adam(model.parameters(), lr=lr, weight_decay=1e-5)\n",
    "\n",
    "sampler = BernoulliNegativeSampler(kg_train)\n",
    "dataloader = DataLoader(kg_train, batch_size=b_size, use_cuda='all')\n",
    "\n"
   ]
  },
  {
   "cell_type": "code",
   "execution_count": 11,
   "id": "e68b8086",
   "metadata": {},
   "outputs": [
    {
     "name": "stderr",
     "output_type": "stream",
     "text": [
      "Epoch 1000 | mean loss: 2.94146: 100%|██████████| 1000/1000 [4:14:51<00:00, 15.29s/epoch]\n"
     ]
    }
   ],
   "source": [
    "iterator = tqdm(range(n_epochs), unit='epoch')\n",
    "epoch_losses = []\n",
    "for epoch in iterator:\n",
    "    running_loss = 0.0\n",
    "    for i, batch in enumerate(dataloader):\n",
    "        h, t, r = batch[0], batch[1], batch[2]\n",
    "        n_h, n_t = sampler.corrupt_batch(h, t, r)\n",
    "\n",
    "        optimizer.zero_grad()\n",
    "\n",
    "        # forward + backward + optimize\n",
    "        pos, neg = model(h, t, r, n_h, n_t)\n",
    "        loss = criterion(pos, neg)\n",
    "        loss.backward()\n",
    "        optimizer.step()\n",
    "\n",
    "        running_loss += loss.item()\n",
    "\n",
    "    mean_loss = running_loss / len(dataloader)\n",
    "    epoch_losses.append(mean_loss)\n",
    "\n",
    "    iterator.set_description(\n",
    "        'Epoch {} | mean loss: {:.5f}'.format(epoch + 1,\n",
    "                                              running_loss / len(dataloader)))"
   ]
  },
  {
   "cell_type": "code",
   "execution_count": 12,
   "id": "3fa0debc",
   "metadata": {},
   "outputs": [
    {
     "data": {
      "image/png": "[encoded data removed]",
      "text/plain": [
       "<Figure size 640x480 with 1 Axes>"
      ]
     },
     "metadata": {},
     "output_type": "display_data"
    }
   ],
   "source": [
    "import matplotlib.pyplot as plt\n",
    "\n",
    "#  绘制折线图\n",
    "plt.figure()\n",
    "plt.plot(range(1, n_epochs +1), epoch_losses)\n",
    "plt.xlabel('Epoch')\n",
    "plt.ylabel('Mean Training Loss')\n",
    "plt.title('TransE Training Loss Convergence')\n",
    "plt.tight_layout()\n",
    "plt.show()"
   ]
  },
  {
   "cell_type": "code",
   "execution_count": null,
   "id": "e6356737",
   "metadata": {},
   "outputs": [],
   "source": []
  },
  {
   "cell_type": "code",
   "execution_count": null,
   "id": "4135e823",
   "metadata": {},
   "outputs": [],
   "source": []
  },
  {
   "cell_type": "code",
   "execution_count": 23,
   "id": "08f00ea2",
   "metadata": {},
   "outputs": [
    {
     "name": "stderr",
     "output_type": "stream",
     "text": [
      "Link prediction evaluation:   0%|          | 2/9708 [00:00<17:11,  9.41batch/s]"
     ]
    },
    {
     "name": "stderr",
     "output_type": "stream",
     "text": [
      "Link prediction evaluation: 100%|██████████| 9708/9708 [13:57<00:00, 11.59batch/s]\n"
     ]
    }
   ],
   "source": [
    "evaluator = LinkPredictionEvaluator(model, kg_train)\n",
    "evaluator.evaluate(b_size=128)"
   ]
  },
  {
   "cell_type": "code",
   "execution_count": 24,
   "id": "7ff96398",
   "metadata": {},
   "outputs": [
    {
     "name": "stdout",
     "output_type": "stream",
     "text": [
      "Hit@10 : 0.101 \t\t Filt. Hit@10 : 0.114\n",
      "Mean Rank : 35044 \t Filt. Mean Rank : 34933\n",
      "MRR : 0.056 \t\t Filt. MRR : 0.066\n"
     ]
    }
   ],
   "source": [
    "evaluator.print_results()"
   ]
  },
  {
   "cell_type": "code",
   "execution_count": null,
   "id": "363c6e97",
   "metadata": {},
   "outputs": [],
   "source": []
  },
  {
   "cell_type": "code",
   "execution_count": null,
   "id": "581299ff",
   "metadata": {},
   "outputs": [],
   "source": []
  },
  {
   "cell_type": "code",
   "execution_count": null,
   "id": "5987ceb5",
   "metadata": {},
   "outputs": [],
   "source": []
  },
  {
   "cell_type": "code",
   "execution_count": null,
   "id": "d336fe25",
   "metadata": {},
   "outputs": [],
   "source": []
  },
  {
   "cell_type": "code",
   "execution_count": 13,
   "id": "4c61e35f",
   "metadata": {},
   "outputs": [
    {
     "name": "stdout",
     "output_type": "stream",
     "text": [
      "✓ 已保存模型参数到 ./outputs/transE_openGB500_0613.pt\n"
     ]
    }
   ],
   "source": [
    "import torch\n",
    "save_path = \"./outputs/transE_openGB500_0613.pt\"\n",
    "torch.save(model.state_dict(), save_path)\n",
    "print(f\"✓ 已保存模型参数到 {save_path}\")"
   ]
  },
  {
   "cell_type": "code",
   "execution_count": 14,
   "id": "af2fc835",
   "metadata": {},
   "outputs": [],
   "source": [
    "from torchkge.evaluation import LinkPredictionEvaluator\n",
    "from torchkge.utils.pretrained_models import load_pretrained_transe"
   ]
  },
  {
   "cell_type": "code",
   "execution_count": 15,
   "id": "edc63618",
   "metadata": {},
   "outputs": [],
   "source": [
    "kg_test = KnowledgeGraph(df=df_test)"
   ]
  },
  {
   "cell_type": "code",
   "execution_count": 20,
   "id": "fc630dd8",
   "metadata": {},
   "outputs": [
    {
     "data": {
      "text/html": [
       "<div>\n",
       "<style scoped>\n",
       "    .dataframe tbody tr th:only-of-type {\n",
       "        vertical-align: middle;\n",
       "    }\n",
       "\n",
       "    .dataframe tbody tr th {\n",
       "        vertical-align: top;\n",
       "    }\n",
       "\n",
       "    .dataframe thead th {\n",
       "        text-align: right;\n",
       "    }\n",
       "</style>\n",
       "<table border=\"1\" class=\"dataframe\">\n",
       "  <thead>\n",
       "    <tr style=\"text-align: right;\">\n",
       "      <th></th>\n",
       "      <th>from</th>\n",
       "      <th>to</th>\n",
       "      <th>rel</th>\n",
       "    </tr>\n",
       "  </thead>\n",
       "  <tbody>\n",
       "    <tr>\n",
       "      <th>0</th>\n",
       "      <td>葡萄干</td>\n",
       "      <td>否</td>\n",
       "      <td>是否有核</td>\n",
       "    </tr>\n",
       "    <tr>\n",
       "      <th>1</th>\n",
       "      <td>运动内衣</td>\n",
       "      <td>中国</td>\n",
       "      <td>品牌归属地</td>\n",
       "    </tr>\n",
       "    <tr>\n",
       "      <th>2</th>\n",
       "      <td>新路学业口算题卡一年级上</td>\n",
       "      <td>同步训练</td>\n",
       "      <td>教辅种类</td>\n",
       "    </tr>\n",
       "    <tr>\n",
       "      <th>3</th>\n",
       "      <td>男子汉牙刷A62</td>\n",
       "      <td>清洁</td>\n",
       "      <td>功能</td>\n",
       "    </tr>\n",
       "    <tr>\n",
       "      <th>4</th>\n",
       "      <td>月子服</td>\n",
       "      <td>长袖</td>\n",
       "      <td>袖长</td>\n",
       "    </tr>\n",
       "    <tr>\n",
       "      <th>...</th>\n",
       "      <td>...</td>\n",
       "      <td>...</td>\n",
       "      <td>...</td>\n",
       "    </tr>\n",
       "    <tr>\n",
       "      <th>4995</th>\n",
       "      <td>特级初榨橄榄油</td>\n",
       "      <td>初榨橄榄油</td>\n",
       "      <td>食用油类型</td>\n",
       "    </tr>\n",
       "    <tr>\n",
       "      <th>4996</th>\n",
       "      <td>5.5“英式反口碗</td>\n",
       "      <td>10件</td>\n",
       "      <td>套件数量</td>\n",
       "    </tr>\n",
       "    <tr>\n",
       "      <th>4997</th>\n",
       "      <td>户外垃圾桶</td>\n",
       "      <td>剪裁，压制，折弯后在焊接而成型</td>\n",
       "      <td>制作工艺</td>\n",
       "    </tr>\n",
       "    <tr>\n",
       "      <th>4998</th>\n",
       "      <td>imoo学习手机GET香槟金</td>\n",
       "      <td>英文</td>\n",
       "      <td>语种分类</td>\n",
       "    </tr>\n",
       "    <tr>\n",
       "      <th>4999</th>\n",
       "      <td>日本pentel派通自来水笔美术学生成人手绘写生水彩笔毛笔毛刷固体水彩画笔伴侣多选</td>\n",
       "      <td>山马</td>\n",
       "      <td>笔头毛种</td>\n",
       "    </tr>\n",
       "  </tbody>\n",
       "</table>\n",
       "<p>5000 rows × 3 columns</p>\n",
       "</div>"
      ],
      "text/plain": [
       "                                           from               to    rel\n",
       "0                                           葡萄干                否   是否有核\n",
       "1                                          运动内衣               中国  品牌归属地\n",
       "2                                  新路学业口算题卡一年级上             同步训练   教辅种类\n",
       "3                                      男子汉牙刷A62               清洁     功能\n",
       "4                                           月子服               长袖     袖长\n",
       "...                                         ...              ...    ...\n",
       "4995                                    特级初榨橄榄油            初榨橄榄油  食用油类型\n",
       "4996                                  5.5“英式反口碗              10件   套件数量\n",
       "4997                                      户外垃圾桶  剪裁，压制，折弯后在焊接而成型   制作工艺\n",
       "4998                             imoo学习手机GET香槟金               英文   语种分类\n",
       "4999  日本pentel派通自来水笔美术学生成人手绘写生水彩笔毛笔毛刷固体水彩画笔伴侣多选               山马   笔头毛种\n",
       "\n",
       "[5000 rows x 3 columns]"
      ]
     },
     "execution_count": 20,
     "metadata": {},
     "output_type": "execute_result"
    }
   ],
   "source": [
    "kg_test.get_df()"
   ]
  },
  {
   "cell_type": "code",
   "execution_count": 16,
   "id": "c3c9c42f",
   "metadata": {},
   "outputs": [
    {
     "data": {
      "text/plain": [
       "TransEModel(\n",
       "  (ent_emb): Embedding(117311, 50)\n",
       "  (rel_emb): Embedding(498, 50)\n",
       ")"
      ]
     },
     "execution_count": 16,
     "metadata": {},
     "output_type": "execute_result"
    }
   ],
   "source": [
    "model.eval()"
   ]
  },
  {
   "cell_type": "code",
   "execution_count": 17,
   "id": "bb34a5d9",
   "metadata": {},
   "outputs": [],
   "source": [
    "if torch.cuda.is_available():\n",
    "    model.cuda()"
   ]
  },
  {
   "cell_type": "code",
   "execution_count": 18,
   "id": "dba9c19c",
   "metadata": {},
   "outputs": [
    {
     "name": "stderr",
     "output_type": "stream",
     "text": [
      "Link prediction evaluation: 100%|██████████| 40/40 [00:02<00:00, 15.78batch/s]\n"
     ]
    }
   ],
   "source": [
    "evaluator = LinkPredictionEvaluator(model, kg_test)\n",
    "evaluator.evaluate(b_size=128)"
   ]
  },
  {
   "cell_type": "code",
   "execution_count": 19,
   "id": "61af3eba",
   "metadata": {},
   "outputs": [
    {
     "name": "stdout",
     "output_type": "stream",
     "text": [
      "i =  1\n",
      "Hit@1 : 0.0 \t\t Filt. Hit@1 : 0.0\n",
      "Mean Rank : 52051 \t Filt. Mean Rank : 52049\n",
      "MRR : 0.0 \t\t Filt. MRR : 0.0\n",
      "----------------------------------------------------------------------------------------------------\n",
      "i =  3\n",
      "Hit@3 : 0.0 \t\t Filt. Hit@3 : 0.0\n",
      "Mean Rank : 52051 \t Filt. Mean Rank : 52049\n",
      "MRR : 0.0 \t\t Filt. MRR : 0.0\n",
      "----------------------------------------------------------------------------------------------------\n",
      "i =  10\n",
      "Hit@10 : 0.0 \t\t Filt. Hit@10 : 0.0\n",
      "Mean Rank : 52051 \t Filt. Mean Rank : 52049\n",
      "MRR : 0.0 \t\t Filt. MRR : 0.0\n",
      "----------------------------------------------------------------------------------------------------\n"
     ]
    }
   ],
   "source": [
    "for i in [1,3,10]:\n",
    "    print(\"i = \",i)\n",
    "    evaluator.print_results(k=i)\n",
    "    print(\"-\"*100)"
   ]
  },
  {
   "cell_type": "code",
   "execution_count": 21,
   "id": "80826a13",
   "metadata": {},
   "outputs": [
    {
     "name": "stdout",
     "output_type": "stream",
     "text": [
      "Hit@10 : 0.0 \t\t Filt. Hit@10 : 0.0\n",
      "Mean Rank : 52051 \t Filt. Mean Rank : 52049\n",
      "MRR : 0.0 \t\t Filt. MRR : 0.0\n"
     ]
    }
   ],
   "source": [
    "evaluator.print_results()"
   ]
  },
  {
   "cell_type": "code",
   "execution_count": null,
   "id": "346380ab",
   "metadata": {},
   "outputs": [],
   "source": []
  },
  {
   "cell_type": "code",
   "execution_count": null,
   "id": "e1816cb8",
   "metadata": {},
   "outputs": [],
   "source": []
  }
 ],
 "metadata": {
  "kernelspec": {
   "display_name": "openke",
   "language": "python",
   "name": "python3"
  },
  "language_info": {
   "codemirror_mode": {
    "name": "ipython",
    "version": 3
   },
   "file_extension": ".py",
   "mimetype": "text/x-python",
   "name": "python",
   "nbconvert_exporter": "python",
   "pygments_lexer": "ipython3",
   "version": "3.10.18"
  }
 },
 "nbformat": 4,
 "nbformat_minor": 5
}
