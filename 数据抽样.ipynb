{
 "cells": [
  {
   "cell_type": "code",
   "execution_count": 1,
   "metadata": {},
   "outputs": [],
   "source": [
    "from collections import Counter, defaultdict\n",
    "import random"
   ]
  },
  {
   "cell_type": "code",
   "execution_count": 2,
   "metadata": {},
   "outputs": [],
   "source": [
    "data_dir = \"./knowledge_graph_completion/data/OpenBG500/OpenBG500_train.tsv\""
   ]
  },
  {
   "cell_type": "code",
   "execution_count": 3,
   "metadata": {},
   "outputs": [],
   "source": [
    "# 1. 读取原始 OpenBG500 训练集文件，统计每种关系出现次数，统计每个实体出现次数\n",
    "relation_counter = Counter()\n",
    "entity_counter   = Counter()\n",
    "rel2triples = defaultdict(list)\n",
    "ent2triples = defaultdict(list) \n",
    "\n",
    "with open(data_dir, 'r', encoding='utf-8') as f:\n",
    "    for line in f:\n",
    "        h, r, t = line.strip().split('\\t')\n",
    "        relation_counter[r] += 1\n",
    "        entity_counter[h]   += 1\n",
    "        entity_counter[t]   += 1\n",
    "\n",
    "        triple = (h, r, t)\n",
    "        rel2triples[r].append(triple)\n",
    "        ent2triples[h].append(triple)\n",
    "        ent2triples[t].append(triple)"
   ]
  },
  {
   "cell_type": "code",
   "execution_count": 4,
   "metadata": {},
   "outputs": [],
   "source": [
    "# 2. 根据频率将关系分类（低频、中频、高频）\n",
    "low_freq_relations = [r for r, cnt in relation_counter.items() if cnt <= 100]       # 低频关系阈值示例：<=100\n",
    "high_freq_relations = [r for r, cnt in relation_counter.items() if cnt >= 5000]     # 高频关系阈值示例：>=5000\n",
    "mid_freq_relations = [r for r in relation_counter if r not in set(low_freq_relations) | set(high_freq_relations)]"
   ]
  },
  {
   "cell_type": "code",
   "execution_count": 5,
   "metadata": {},
   "outputs": [
    {
     "data": {
      "text/plain": [
       "(97, 377, 26)"
      ]
     },
     "execution_count": 5,
     "metadata": {},
     "output_type": "execute_result"
    }
   ],
   "source": [
    "len(low_freq_relations),len(mid_freq_relations),len(high_freq_relations)"
   ]
  },
  {
   "cell_type": "code",
   "execution_count": 6,
   "metadata": {},
   "outputs": [],
   "source": [
    "# 3. 初始化样本训练集三元组集合\n",
    "sample_triples = []"
   ]
  },
  {
   "cell_type": "code",
   "execution_count": 7,
   "metadata": {},
   "outputs": [],
   "source": [
    "# 3.1 全量纳入低频关系\n",
    "for r in low_freq_relations:\n",
    "    sample_triples.extend(rel2triples[r])"
   ]
  },
  {
   "cell_type": "code",
   "execution_count": 8,
   "metadata": {},
   "outputs": [
    {
     "data": {
      "text/plain": [
       "5843"
      ]
     },
     "execution_count": 8,
     "metadata": {},
     "output_type": "execute_result"
    }
   ],
   "source": [
    "len(sample_triples)"
   ]
  },
  {
   "cell_type": "code",
   "execution_count": 9,
   "metadata": {},
   "outputs": [],
   "source": [
    "# 3.2 【修改处】按中频关系频次从低到高，依次加入它们的所有三元组，直到接近容量上限\n",
    "remaining_capacity = 10000 - len(sample_triples)\n",
    "mid_freq_relations.sort(key=lambda r: relation_counter[r])  # 频次升序\n",
    "\n",
    "for relation in mid_freq_relations:\n",
    "    cnt = relation_counter[relation]\n",
    "    if cnt <= remaining_capacity:\n",
    "        # 用 rel2triples 索引取出该关系的所有三元组\n",
    "        sample_triples.extend(rel2triples[relation])\n",
    "        remaining_capacity -= cnt\n",
    "    else:\n",
    "        # 加入下一个关系将超过容量，退出循环\n",
    "        break"
   ]
  },
  {
   "cell_type": "code",
   "execution_count": 10,
   "metadata": {},
   "outputs": [
    {
     "data": {
      "text/plain": [
       "106"
      ]
     },
     "execution_count": 10,
     "metadata": {},
     "output_type": "execute_result"
    }
   ],
   "source": [
    "remaining_capacity"
   ]
  },
  {
   "cell_type": "code",
   "execution_count": 11,
   "metadata": {},
   "outputs": [
    {
     "data": {
      "text/plain": [
       "9894"
      ]
     },
     "execution_count": 11,
     "metadata": {},
     "output_type": "execute_result"
    }
   ],
   "source": [
    "len(sample_triples)"
   ]
  },
  {
   "cell_type": "markdown",
   "metadata": {},
   "source": [
    "## ent2text"
   ]
  },
  {
   "cell_type": "code",
   "execution_count": 12,
   "metadata": {},
   "outputs": [],
   "source": [
    "import csv\n",
    "\n",
    "# —— 1. 读取实体和关系描述 —— #\n",
    "ent2text = {}\n",
    "with open('./knowledge_graph_completion/data/OpenBG500/OpenBG500_entity2text.tsv', 'r', encoding='utf-8') as f:\n",
    "    for line in f:\n",
    "        eid, desc = line.strip().split('\\t', 1)\n",
    "        ent2text[eid] = desc\n",
    "\n",
    "rel2text = {}\n",
    "with open('./knowledge_graph_completion/data/OpenBG500/OpenBG500_relation2text.tsv', 'r', encoding='utf-8') as f:\n",
    "    for line in f:\n",
    "        rid, desc = line.strip().split('\\t', 1)\n",
    "        rel2text[rid] = desc"
   ]
  },
  {
   "cell_type": "code",
   "execution_count": 13,
   "metadata": {},
   "outputs": [],
   "source": [
    "train_mapped = []\n",
    "for head, rel, tail in sample_triples:\n",
    "    head_text = ent2text.get(head, head)      # 若无描述，则保留原 ID\n",
    "    rel_text  = rel2text.get(rel, rel)\n",
    "    tail_text = ent2text.get(tail, tail)\n",
    "    train_mapped.append((head_text, rel_text, tail_text))"
   ]
  },
  {
   "cell_type": "code",
   "execution_count": 14,
   "metadata": {},
   "outputs": [
    {
     "data": {
      "text/plain": [
       "9894"
      ]
     },
     "execution_count": 14,
     "metadata": {},
     "output_type": "execute_result"
    }
   ],
   "source": [
    "len(train_mapped)"
   ]
  },
  {
   "cell_type": "code",
   "execution_count": null,
   "metadata": {},
   "outputs": [],
   "source": []
  },
  {
   "cell_type": "markdown",
   "metadata": {},
   "source": [
    "## split"
   ]
  },
  {
   "cell_type": "code",
   "execution_count": 15,
   "metadata": {},
   "outputs": [],
   "source": [
    "import random\n",
    "from collections import defaultdict\n"
   ]
  },
  {
   "cell_type": "code",
   "execution_count": 26,
   "metadata": {},
   "outputs": [],
   "source": [
    "random.seed(42)\n",
    "\n",
    "# 1. 参数\n",
    "test_ratio = 0.12\n",
    "total = len(train_mapped)\n",
    "n_test = int(total * test_ratio)"
   ]
  },
  {
   "cell_type": "code",
   "execution_count": 27,
   "metadata": {},
   "outputs": [
    {
     "data": {
      "text/plain": [
       "1187"
      ]
     },
     "execution_count": 27,
     "metadata": {},
     "output_type": "execute_result"
    }
   ],
   "source": [
    "n_test"
   ]
  },
  {
   "cell_type": "code",
   "execution_count": 28,
   "metadata": {},
   "outputs": [],
   "source": [
    "# 1. 按关系把样本索引分组\n",
    "rel2indices = defaultdict(list)\n",
    "for idx, (_, rel, _) in enumerate(train_mapped):\n",
    "    rel2indices[rel].append(idx)\n",
    "\n",
    "# 2. 在每个关系组内按比例选索引\n",
    "test_indices = set()\n",
    "for rel, idxs in rel2indices.items():\n",
    "    k = max(1, int(len(idxs) * test_ratio))\n",
    "    # 如果本组样本少于 k，就全拿，否则随机抽 k 个\n",
    "    test_indices.update(random.sample(idxs, min(k, len(idxs))))"
   ]
  },
  {
   "cell_type": "code",
   "execution_count": 29,
   "metadata": {},
   "outputs": [],
   "source": [
    "# 3. 调整到精确的 n_test\n",
    "if len(test_indices) > n_test:\n",
    "    test_indices = set(random.sample(test_indices, n_test))\n",
    "elif len(test_indices) < n_test:\n",
    "    all_indices = set(range(total))\n",
    "    needed = n_test - len(test_indices)\n",
    "    test_indices.update(random.sample(list(all_indices - test_indices), needed))"
   ]
  },
  {
   "cell_type": "code",
   "execution_count": 30,
   "metadata": {},
   "outputs": [],
   "source": [
    "# 4. 根据索引构建测试集与训练集\n",
    "test_triples  = [train_mapped[i] for i in sorted(test_indices)]\n",
    "train_triples = [train_mapped[i] for i in range(total) if i not in test_indices]\n"
   ]
  },
  {
   "cell_type": "code",
   "execution_count": 31,
   "metadata": {},
   "outputs": [
    {
     "name": "stdout",
     "output_type": "stream",
     "text": [
      "总样本: 9894 条\n",
      "测试集: 1187 条\n",
      "训练集: 8707 条\n"
     ]
    }
   ],
   "source": [
    "# 6. 输出并校验\n",
    "print(f\"总样本: {total} 条\")\n",
    "print(f\"测试集: {len(test_triples)} 条\")\n",
    "print(f\"训练集: {len(train_triples)} 条\")"
   ]
  },
  {
   "cell_type": "markdown",
   "metadata": {},
   "source": [
    "## save"
   ]
  },
  {
   "cell_type": "code",
   "execution_count": 32,
   "metadata": {},
   "outputs": [],
   "source": [
    "import csv"
   ]
  },
  {
   "cell_type": "code",
   "execution_count": 33,
   "metadata": {},
   "outputs": [],
   "source": [
    "def save_triples_to_csv(triples, path):\n",
    "    \"\"\"\n",
    "    将三元组列表保存为 CSV，带表头 head,relation,tail\n",
    "    \"\"\"\n",
    "    with open(path, 'w', newline='', encoding='utf-8') as fp:\n",
    "        writer = csv.writer(fp)\n",
    "        writer.writerow(['head', 'relation', 'tail'])\n",
    "        writer.writerows(triples)"
   ]
  },
  {
   "cell_type": "code",
   "execution_count": 34,
   "metadata": {},
   "outputs": [],
   "source": [
    "# 保存训练/验证/测试集\n",
    "save_triples_to_csv(train_triples, 'train.csv')\n",
    "save_triples_to_csv(test_triples,   'test.csv')"
   ]
  },
  {
   "cell_type": "code",
   "execution_count": null,
   "metadata": {},
   "outputs": [],
   "source": []
  }
 ],
 "metadata": {
  "kernelspec": {
   "display_name": "kgc",
   "language": "python",
   "name": "python3"
  },
  "language_info": {
   "codemirror_mode": {
    "name": "ipython",
    "version": 3
   },
   "file_extension": ".py",
   "mimetype": "text/x-python",
   "name": "python",
   "nbconvert_exporter": "python",
   "pygments_lexer": "ipython3",
   "version": "3.11.11"
  }
 },
 "nbformat": 4,
 "nbformat_minor": 2
}
